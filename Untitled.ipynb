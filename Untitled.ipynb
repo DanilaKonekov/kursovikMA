{
 "cells": [
  {
   "cell_type": "code",
   "execution_count": 1,
   "id": "cc53013e",
   "metadata": {},
   "outputs": [],
   "source": [
    "import pandas as pd\n",
    "import numpy as np\n",
    "import seaborn as sns\n",
    "import matplotlib.pyplot as plt"
   ]
  },
  {
   "cell_type": "code",
   "execution_count": 2,
   "id": "9e8147b6",
   "metadata": {},
   "outputs": [],
   "source": [
    "data = pd.read_csv('cse_cic_ids2018.csv', low_memory=False)"
   ]
  },
  {
   "cell_type": "code",
   "execution_count": 3,
   "id": "dac23952",
   "metadata": {},
   "outputs": [
    {
     "data": {
      "text/html": [
       "<div>\n",
       "<style scoped>\n",
       "    .dataframe tbody tr th:only-of-type {\n",
       "        vertical-align: middle;\n",
       "    }\n",
       "\n",
       "    .dataframe tbody tr th {\n",
       "        vertical-align: top;\n",
       "    }\n",
       "\n",
       "    .dataframe thead th {\n",
       "        text-align: right;\n",
       "    }\n",
       "</style>\n",
       "<table border=\"1\" class=\"dataframe\">\n",
       "  <thead>\n",
       "    <tr style=\"text-align: right;\">\n",
       "      <th></th>\n",
       "      <th>Unnamed: 0</th>\n",
       "      <th>Dst Port</th>\n",
       "      <th>Protocol</th>\n",
       "      <th>Timestamp</th>\n",
       "      <th>Flow Duration</th>\n",
       "      <th>Tot Fwd Pkts</th>\n",
       "      <th>Tot Bwd Pkts</th>\n",
       "      <th>TotLen Fwd Pkts</th>\n",
       "      <th>TotLen Bwd Pkts</th>\n",
       "      <th>Fwd Pkt Len Max</th>\n",
       "      <th>...</th>\n",
       "      <th>Fwd Seg Size Min</th>\n",
       "      <th>Active Mean</th>\n",
       "      <th>Active Std</th>\n",
       "      <th>Active Max</th>\n",
       "      <th>Active Min</th>\n",
       "      <th>Idle Mean</th>\n",
       "      <th>Idle Std</th>\n",
       "      <th>Idle Max</th>\n",
       "      <th>Idle Min</th>\n",
       "      <th>Label</th>\n",
       "    </tr>\n",
       "  </thead>\n",
       "  <tbody>\n",
       "    <tr>\n",
       "      <th>0</th>\n",
       "      <td>0</td>\n",
       "      <td>443</td>\n",
       "      <td>6</td>\n",
       "      <td>02/03/2018 08:47:38</td>\n",
       "      <td>141385</td>\n",
       "      <td>9</td>\n",
       "      <td>7</td>\n",
       "      <td>553</td>\n",
       "      <td>3773.0</td>\n",
       "      <td>202</td>\n",
       "      <td>...</td>\n",
       "      <td>20</td>\n",
       "      <td>0.0</td>\n",
       "      <td>0.0</td>\n",
       "      <td>0.0</td>\n",
       "      <td>0.0</td>\n",
       "      <td>0.0</td>\n",
       "      <td>0.0</td>\n",
       "      <td>0.0</td>\n",
       "      <td>0.0</td>\n",
       "      <td>Benign</td>\n",
       "    </tr>\n",
       "    <tr>\n",
       "      <th>1</th>\n",
       "      <td>1</td>\n",
       "      <td>49684</td>\n",
       "      <td>6</td>\n",
       "      <td>02/03/2018 08:47:38</td>\n",
       "      <td>281</td>\n",
       "      <td>2</td>\n",
       "      <td>1</td>\n",
       "      <td>38</td>\n",
       "      <td>0.0</td>\n",
       "      <td>38</td>\n",
       "      <td>...</td>\n",
       "      <td>20</td>\n",
       "      <td>0.0</td>\n",
       "      <td>0.0</td>\n",
       "      <td>0.0</td>\n",
       "      <td>0.0</td>\n",
       "      <td>0.0</td>\n",
       "      <td>0.0</td>\n",
       "      <td>0.0</td>\n",
       "      <td>0.0</td>\n",
       "      <td>Benign</td>\n",
       "    </tr>\n",
       "    <tr>\n",
       "      <th>2</th>\n",
       "      <td>2</td>\n",
       "      <td>443</td>\n",
       "      <td>6</td>\n",
       "      <td>02/03/2018 08:47:40</td>\n",
       "      <td>279824</td>\n",
       "      <td>11</td>\n",
       "      <td>15</td>\n",
       "      <td>1086</td>\n",
       "      <td>10527.0</td>\n",
       "      <td>385</td>\n",
       "      <td>...</td>\n",
       "      <td>20</td>\n",
       "      <td>0.0</td>\n",
       "      <td>0.0</td>\n",
       "      <td>0.0</td>\n",
       "      <td>0.0</td>\n",
       "      <td>0.0</td>\n",
       "      <td>0.0</td>\n",
       "      <td>0.0</td>\n",
       "      <td>0.0</td>\n",
       "      <td>Benign</td>\n",
       "    </tr>\n",
       "    <tr>\n",
       "      <th>3</th>\n",
       "      <td>3</td>\n",
       "      <td>443</td>\n",
       "      <td>6</td>\n",
       "      <td>02/03/2018 08:47:40</td>\n",
       "      <td>132</td>\n",
       "      <td>2</td>\n",
       "      <td>0</td>\n",
       "      <td>0</td>\n",
       "      <td>0.0</td>\n",
       "      <td>0</td>\n",
       "      <td>...</td>\n",
       "      <td>20</td>\n",
       "      <td>0.0</td>\n",
       "      <td>0.0</td>\n",
       "      <td>0.0</td>\n",
       "      <td>0.0</td>\n",
       "      <td>0.0</td>\n",
       "      <td>0.0</td>\n",
       "      <td>0.0</td>\n",
       "      <td>0.0</td>\n",
       "      <td>Benign</td>\n",
       "    </tr>\n",
       "    <tr>\n",
       "      <th>4</th>\n",
       "      <td>4</td>\n",
       "      <td>443</td>\n",
       "      <td>6</td>\n",
       "      <td>02/03/2018 08:47:41</td>\n",
       "      <td>274016</td>\n",
       "      <td>9</td>\n",
       "      <td>13</td>\n",
       "      <td>1285</td>\n",
       "      <td>6141.0</td>\n",
       "      <td>517</td>\n",
       "      <td>...</td>\n",
       "      <td>20</td>\n",
       "      <td>0.0</td>\n",
       "      <td>0.0</td>\n",
       "      <td>0.0</td>\n",
       "      <td>0.0</td>\n",
       "      <td>0.0</td>\n",
       "      <td>0.0</td>\n",
       "      <td>0.0</td>\n",
       "      <td>0.0</td>\n",
       "      <td>Benign</td>\n",
       "    </tr>\n",
       "    <tr>\n",
       "      <th>...</th>\n",
       "      <td>...</td>\n",
       "      <td>...</td>\n",
       "      <td>...</td>\n",
       "      <td>...</td>\n",
       "      <td>...</td>\n",
       "      <td>...</td>\n",
       "      <td>...</td>\n",
       "      <td>...</td>\n",
       "      <td>...</td>\n",
       "      <td>...</td>\n",
       "      <td>...</td>\n",
       "      <td>...</td>\n",
       "      <td>...</td>\n",
       "      <td>...</td>\n",
       "      <td>...</td>\n",
       "      <td>...</td>\n",
       "      <td>...</td>\n",
       "      <td>...</td>\n",
       "      <td>...</td>\n",
       "      <td>...</td>\n",
       "      <td>...</td>\n",
       "    </tr>\n",
       "    <tr>\n",
       "      <th>9332765</th>\n",
       "      <td>1048570</td>\n",
       "      <td>54116</td>\n",
       "      <td>6</td>\n",
       "      <td>23/02/2018 09:00:54</td>\n",
       "      <td>85992425</td>\n",
       "      <td>2</td>\n",
       "      <td>0</td>\n",
       "      <td>0</td>\n",
       "      <td>0.0</td>\n",
       "      <td>0</td>\n",
       "      <td>...</td>\n",
       "      <td>20</td>\n",
       "      <td>0.0</td>\n",
       "      <td>0.0</td>\n",
       "      <td>0.0</td>\n",
       "      <td>0.0</td>\n",
       "      <td>85992425.0</td>\n",
       "      <td>0.0</td>\n",
       "      <td>85992425.0</td>\n",
       "      <td>85992425.0</td>\n",
       "      <td>Benign</td>\n",
       "    </tr>\n",
       "    <tr>\n",
       "      <th>9332766</th>\n",
       "      <td>1048571</td>\n",
       "      <td>33914</td>\n",
       "      <td>6</td>\n",
       "      <td>23/02/2018 12:31:42</td>\n",
       "      <td>132</td>\n",
       "      <td>2</td>\n",
       "      <td>0</td>\n",
       "      <td>0</td>\n",
       "      <td>0.0</td>\n",
       "      <td>0</td>\n",
       "      <td>...</td>\n",
       "      <td>20</td>\n",
       "      <td>0.0</td>\n",
       "      <td>0.0</td>\n",
       "      <td>0.0</td>\n",
       "      <td>0.0</td>\n",
       "      <td>0.0</td>\n",
       "      <td>0.0</td>\n",
       "      <td>0.0</td>\n",
       "      <td>0.0</td>\n",
       "      <td>Benign</td>\n",
       "    </tr>\n",
       "    <tr>\n",
       "      <th>9332767</th>\n",
       "      <td>1048572</td>\n",
       "      <td>53</td>\n",
       "      <td>17</td>\n",
       "      <td>23/02/2018 12:15:24</td>\n",
       "      <td>79134</td>\n",
       "      <td>1</td>\n",
       "      <td>1</td>\n",
       "      <td>41</td>\n",
       "      <td>98.0</td>\n",
       "      <td>41</td>\n",
       "      <td>...</td>\n",
       "      <td>8</td>\n",
       "      <td>0.0</td>\n",
       "      <td>0.0</td>\n",
       "      <td>0.0</td>\n",
       "      <td>0.0</td>\n",
       "      <td>0.0</td>\n",
       "      <td>0.0</td>\n",
       "      <td>0.0</td>\n",
       "      <td>0.0</td>\n",
       "      <td>Benign</td>\n",
       "    </tr>\n",
       "    <tr>\n",
       "      <th>9332768</th>\n",
       "      <td>1048573</td>\n",
       "      <td>3389</td>\n",
       "      <td>6</td>\n",
       "      <td>23/02/2018 12:45:39</td>\n",
       "      <td>10053785</td>\n",
       "      <td>11</td>\n",
       "      <td>12</td>\n",
       "      <td>1321</td>\n",
       "      <td>1659.0</td>\n",
       "      <td>677</td>\n",
       "      <td>...</td>\n",
       "      <td>20</td>\n",
       "      <td>0.0</td>\n",
       "      <td>0.0</td>\n",
       "      <td>0.0</td>\n",
       "      <td>0.0</td>\n",
       "      <td>0.0</td>\n",
       "      <td>0.0</td>\n",
       "      <td>0.0</td>\n",
       "      <td>0.0</td>\n",
       "      <td>Benign</td>\n",
       "    </tr>\n",
       "    <tr>\n",
       "      <th>9332769</th>\n",
       "      <td>1048574</td>\n",
       "      <td>445</td>\n",
       "      <td>6</td>\n",
       "      <td>23/02/2018 09:04:11</td>\n",
       "      <td>566835</td>\n",
       "      <td>6</td>\n",
       "      <td>5</td>\n",
       "      <td>455</td>\n",
       "      <td>338.0</td>\n",
       "      <td>140</td>\n",
       "      <td>...</td>\n",
       "      <td>20</td>\n",
       "      <td>0.0</td>\n",
       "      <td>0.0</td>\n",
       "      <td>0.0</td>\n",
       "      <td>0.0</td>\n",
       "      <td>0.0</td>\n",
       "      <td>0.0</td>\n",
       "      <td>0.0</td>\n",
       "      <td>0.0</td>\n",
       "      <td>Benign</td>\n",
       "    </tr>\n",
       "  </tbody>\n",
       "</table>\n",
       "<p>9332770 rows × 81 columns</p>\n",
       "</div>"
      ],
      "text/plain": [
       "         Unnamed: 0  Dst Port  Protocol            Timestamp  Flow Duration  \\\n",
       "0                 0       443         6  02/03/2018 08:47:38         141385   \n",
       "1                 1     49684         6  02/03/2018 08:47:38            281   \n",
       "2                 2       443         6  02/03/2018 08:47:40         279824   \n",
       "3                 3       443         6  02/03/2018 08:47:40            132   \n",
       "4                 4       443         6  02/03/2018 08:47:41         274016   \n",
       "...             ...       ...       ...                  ...            ...   \n",
       "9332765     1048570     54116         6  23/02/2018 09:00:54       85992425   \n",
       "9332766     1048571     33914         6  23/02/2018 12:31:42            132   \n",
       "9332767     1048572        53        17  23/02/2018 12:15:24          79134   \n",
       "9332768     1048573      3389         6  23/02/2018 12:45:39       10053785   \n",
       "9332769     1048574       445         6  23/02/2018 09:04:11         566835   \n",
       "\n",
       "         Tot Fwd Pkts  Tot Bwd Pkts  TotLen Fwd Pkts  TotLen Bwd Pkts  \\\n",
       "0                   9             7              553           3773.0   \n",
       "1                   2             1               38              0.0   \n",
       "2                  11            15             1086          10527.0   \n",
       "3                   2             0                0              0.0   \n",
       "4                   9            13             1285           6141.0   \n",
       "...               ...           ...              ...              ...   \n",
       "9332765             2             0                0              0.0   \n",
       "9332766             2             0                0              0.0   \n",
       "9332767             1             1               41             98.0   \n",
       "9332768            11            12             1321           1659.0   \n",
       "9332769             6             5              455            338.0   \n",
       "\n",
       "         Fwd Pkt Len Max  ...  Fwd Seg Size Min  Active Mean  Active Std  \\\n",
       "0                    202  ...                20          0.0         0.0   \n",
       "1                     38  ...                20          0.0         0.0   \n",
       "2                    385  ...                20          0.0         0.0   \n",
       "3                      0  ...                20          0.0         0.0   \n",
       "4                    517  ...                20          0.0         0.0   \n",
       "...                  ...  ...               ...          ...         ...   \n",
       "9332765                0  ...                20          0.0         0.0   \n",
       "9332766                0  ...                20          0.0         0.0   \n",
       "9332767               41  ...                 8          0.0         0.0   \n",
       "9332768              677  ...                20          0.0         0.0   \n",
       "9332769              140  ...                20          0.0         0.0   \n",
       "\n",
       "         Active Max  Active Min   Idle Mean  Idle Std    Idle Max    Idle Min  \\\n",
       "0               0.0         0.0         0.0       0.0         0.0         0.0   \n",
       "1               0.0         0.0         0.0       0.0         0.0         0.0   \n",
       "2               0.0         0.0         0.0       0.0         0.0         0.0   \n",
       "3               0.0         0.0         0.0       0.0         0.0         0.0   \n",
       "4               0.0         0.0         0.0       0.0         0.0         0.0   \n",
       "...             ...         ...         ...       ...         ...         ...   \n",
       "9332765         0.0         0.0  85992425.0       0.0  85992425.0  85992425.0   \n",
       "9332766         0.0         0.0         0.0       0.0         0.0         0.0   \n",
       "9332767         0.0         0.0         0.0       0.0         0.0         0.0   \n",
       "9332768         0.0         0.0         0.0       0.0         0.0         0.0   \n",
       "9332769         0.0         0.0         0.0       0.0         0.0         0.0   \n",
       "\n",
       "          Label  \n",
       "0        Benign  \n",
       "1        Benign  \n",
       "2        Benign  \n",
       "3        Benign  \n",
       "4        Benign  \n",
       "...         ...  \n",
       "9332765  Benign  \n",
       "9332766  Benign  \n",
       "9332767  Benign  \n",
       "9332768  Benign  \n",
       "9332769  Benign  \n",
       "\n",
       "[9332770 rows x 81 columns]"
      ]
     },
     "execution_count": 3,
     "metadata": {},
     "output_type": "execute_result"
    }
   ],
   "source": [
    "data"
   ]
  },
  {
   "cell_type": "code",
   "execution_count": 4,
   "id": "fba3a698",
   "metadata": {},
   "outputs": [
    {
     "name": "stdout",
     "output_type": "stream",
     "text": [
      "<class 'pandas.core.frame.DataFrame'>\n",
      "RangeIndex: 9332770 entries, 0 to 9332769\n",
      "Data columns (total 81 columns):\n",
      " #   Column             Dtype  \n",
      "---  ------             -----  \n",
      " 0   Unnamed: 0         int64  \n",
      " 1   Dst Port           int64  \n",
      " 2   Protocol           int64  \n",
      " 3   Timestamp          object \n",
      " 4   Flow Duration      int64  \n",
      " 5   Tot Fwd Pkts       int64  \n",
      " 6   Tot Bwd Pkts       int64  \n",
      " 7   TotLen Fwd Pkts    int64  \n",
      " 8   TotLen Bwd Pkts    float64\n",
      " 9   Fwd Pkt Len Max    int64  \n",
      " 10  Fwd Pkt Len Min    int64  \n",
      " 11  Fwd Pkt Len Mean   float64\n",
      " 12  Fwd Pkt Len Std    float64\n",
      " 13  Bwd Pkt Len Max    int64  \n",
      " 14  Bwd Pkt Len Min    int64  \n",
      " 15  Bwd Pkt Len Mean   float64\n",
      " 16  Bwd Pkt Len Std    float64\n",
      " 17  Flow Byts/s        float64\n",
      " 18  Flow Pkts/s        float64\n",
      " 19  Flow IAT Mean      float64\n",
      " 20  Flow IAT Std       float64\n",
      " 21  Flow IAT Max       float64\n",
      " 22  Flow IAT Min       float64\n",
      " 23  Fwd IAT Tot        float64\n",
      " 24  Fwd IAT Mean       float64\n",
      " 25  Fwd IAT Std        float64\n",
      " 26  Fwd IAT Max        float64\n",
      " 27  Fwd IAT Min        float64\n",
      " 28  Bwd IAT Tot        float64\n",
      " 29  Bwd IAT Mean       float64\n",
      " 30  Bwd IAT Std        float64\n",
      " 31  Bwd IAT Max        float64\n",
      " 32  Bwd IAT Min        float64\n",
      " 33  Fwd PSH Flags      int64  \n",
      " 34  Bwd PSH Flags      int64  \n",
      " 35  Fwd URG Flags      int64  \n",
      " 36  Bwd URG Flags      int64  \n",
      " 37  Fwd Header Len     int64  \n",
      " 38  Bwd Header Len     int64  \n",
      " 39  Fwd Pkts/s         float64\n",
      " 40  Bwd Pkts/s         float64\n",
      " 41  Pkt Len Min        int64  \n",
      " 42  Pkt Len Max        int64  \n",
      " 43  Pkt Len Mean       float64\n",
      " 44  Pkt Len Std        float64\n",
      " 45  Pkt Len Var        float64\n",
      " 46  FIN Flag Cnt       int64  \n",
      " 47  SYN Flag Cnt       int64  \n",
      " 48  RST Flag Cnt       int64  \n",
      " 49  PSH Flag Cnt       int64  \n",
      " 50  ACK Flag Cnt       int64  \n",
      " 51  URG Flag Cnt       int64  \n",
      " 52  CWE Flag Count     int64  \n",
      " 53  ECE Flag Cnt       int64  \n",
      " 54  Down/Up Ratio      int64  \n",
      " 55  Pkt Size Avg       float64\n",
      " 56  Fwd Seg Size Avg   float64\n",
      " 57  Bwd Seg Size Avg   float64\n",
      " 58  Fwd Byts/b Avg     int64  \n",
      " 59  Fwd Pkts/b Avg     int64  \n",
      " 60  Fwd Blk Rate Avg   int64  \n",
      " 61  Bwd Byts/b Avg     int64  \n",
      " 62  Bwd Pkts/b Avg     int64  \n",
      " 63  Bwd Blk Rate Avg   int64  \n",
      " 64  Subflow Fwd Pkts   int64  \n",
      " 65  Subflow Fwd Byts   int64  \n",
      " 66  Subflow Bwd Pkts   int64  \n",
      " 67  Subflow Bwd Byts   int64  \n",
      " 68  Init Fwd Win Byts  int64  \n",
      " 69  Init Bwd Win Byts  int64  \n",
      " 70  Fwd Act Data Pkts  int64  \n",
      " 71  Fwd Seg Size Min   int64  \n",
      " 72  Active Mean        float64\n",
      " 73  Active Std         float64\n",
      " 74  Active Max         float64\n",
      " 75  Active Min         float64\n",
      " 76  Idle Mean          float64\n",
      " 77  Idle Std           float64\n",
      " 78  Idle Max           float64\n",
      " 79  Idle Min           float64\n",
      " 80  Label              object \n",
      "dtypes: float64(37), int64(42), object(2)\n",
      "memory usage: 5.6+ GB\n"
     ]
    }
   ],
   "source": [
    "data.info()"
   ]
  },
  {
   "cell_type": "code",
   "execution_count": 5,
   "id": "a7756289",
   "metadata": {},
   "outputs": [
    {
     "data": {
      "text/plain": [
       "Benign                      6584535\n",
       "DDOS attack-HOIC             686012\n",
       "DDoS attacks-LOIC-HTTP       576191\n",
       "DoS attacks-Hulk             461912\n",
       "Bot                          286191\n",
       "FTP-BruteForce               193360\n",
       "SSH-Bruteforce               187589\n",
       "Infilteration                161934\n",
       "DoS attacks-SlowHTTPTest     139890\n",
       "DoS attacks-GoldenEye         41508\n",
       "DoS attacks-Slowloris         10990\n",
       "DDOS attack-LOIC-UDP           1730\n",
       "Brute Force -Web                611\n",
       "Brute Force -XSS                230\n",
       "SQL Injection                    87\n",
       "Name: Label, dtype: int64"
      ]
     },
     "execution_count": 5,
     "metadata": {},
     "output_type": "execute_result"
    }
   ],
   "source": [
    "data[\"Label\"].value_counts()"
   ]
  },
  {
   "cell_type": "code",
   "execution_count": 7,
   "id": "208546b2",
   "metadata": {},
   "outputs": [],
   "source": [
    "# Отбор признаков\n",
    "features = ['Protocol', 'Bwd Pkts/s', 'Fwd Pkts/s', 'Flow Byts/s', 'Flow Pkts/s']\n",
    "X = data[features]"
   ]
  },
  {
   "cell_type": "code",
   "execution_count": 8,
   "id": "46a5e478",
   "metadata": {},
   "outputs": [],
   "source": [
    "matrix = data.to_numpy()"
   ]
  },
  {
   "cell_type": "code",
   "execution_count": 9,
   "id": "aa711969",
   "metadata": {},
   "outputs": [],
   "source": [
    "attack_types = data['Label'].unique()"
   ]
  },
  {
   "cell_type": "code",
   "execution_count": 10,
   "id": "c680908a",
   "metadata": {},
   "outputs": [
    {
     "data": {
      "image/png": "[encoded data removed]",
      "text/plain": [
       "<Figure size 432x288 with 1 Axes>"
      ]
     },
     "metadata": {
      "needs_background": "light"
     },
     "output_type": "display_data"
    }
   ],
   "source": [
    "sns.countplot(data=data, x='Label')\n",
    "plt.xticks(rotation=90)\n",
    "plt.title('Distribution of attack types')\n",
    "plt.show()"
   ]
  },
  {
   "cell_type": "code",
   "execution_count": 11,
   "id": "19bfd5f9",
   "metadata": {},
   "outputs": [
    {
     "data": {
      "image/png": "[encoded data removed]",
      "text/plain": [
       "<Figure size 432x288 with 1 Axes>"
      ]
     },
     "metadata": {
      "needs_background": "light"
     },
     "output_type": "display_data"
    }
   ],
   "source": [
    "sns.barplot(data=data, x='Label', y='Fwd Pkt Len Mean')\n",
    "plt.xticks(rotation=90)\n",
    "plt.title('Comparison of mean values between attack types')\n",
    "plt.show()"
   ]
  },
  {
   "cell_type": "code",
   "execution_count": 13,
   "id": "9ea5ea2b",
   "metadata": {},
   "outputs": [],
   "source": [
    "targets = np.where(data['Label'].str.contains('Benign'), 0, 1)\n"
   ]
  },
  {
   "cell_type": "code",
   "execution_count": 14,
   "id": "82ac0e8c",
   "metadata": {},
   "outputs": [
    {
     "name": "stdout",
     "output_type": "stream",
     "text": [
      "Размерность матрицы: (9332770, 81)\n",
      "Размерность целевых значений: (9332770,)\n"
     ]
    }
   ],
   "source": [
    "print('Размерность матрицы:', matrix.shape)\n",
    "print('Размерность целевых значений:', targets.shape)"
   ]
  },
  {
   "cell_type": "code",
   "execution_count": 15,
   "id": "2ee47a5e",
   "metadata": {},
   "outputs": [],
   "source": [
    "attacks_df = data[data['Label'].str.contains('Benign') == False]\n",
    "attacks = attacks_df.groupby('Label').size()"
   ]
  },
  {
   "cell_type": "code",
   "execution_count": 16,
   "id": "65be1724",
   "metadata": {},
   "outputs": [
    {
     "data": {
      "image/png": "[encoded data removed]",
      "text/plain": [
       "<Figure size 720x432 with 1 Axes>"
      ]
     },
     "metadata": {
      "needs_background": "light"
     },
     "output_type": "display_data"
    }
   ],
   "source": [
    "fig, ax = plt.subplots(figsize=(10,6))\n",
    "plt.bar(attacks.index, attacks.values, color='grey')\n",
    "plt.xlabel('Тип атаки', fontsize=12)\n",
    "plt.ylabel('Количество пакетов', fontsize=12)\n",
    "plt.title('Количество пакетов, используемых при атаке', fontsize=16)\n",
    "plt.xticks(rotation=90, fontsize=10)\n",
    "plt.yticks(fontsize=10)\n",
    "plt.show()"
   ]
  },
  {
   "cell_type": "code",
   "execution_count": 17,
   "id": "c7373b63",
   "metadata": {},
   "outputs": [],
   "source": [
    "selected_features = ['Dst Port', 'Protocol', 'TotLen Bwd Pkts', 'Fwd Pkt Len Max', 'Bwd Pkt Len Max', 'Flow Duration', 'Flow Pkts/s']"
   ]
  },
  {
   "cell_type": "code",
   "execution_count": 18,
   "id": "de7bb79d",
   "metadata": {},
   "outputs": [],
   "source": [
    "data_filtered = data[selected_features]"
   ]
  },
  {
   "cell_type": "code",
   "execution_count": 19,
   "id": "6daebc7b",
   "metadata": {},
   "outputs": [],
   "source": [
    "data_filtered = data_filtered.replace([np.inf, -np.inf], np.nan)\n",
    "data_filtered = data_filtered.fillna(0)"
   ]
  },
  {
   "cell_type": "code",
   "execution_count": 20,
   "id": "08a69edf",
   "metadata": {},
   "outputs": [],
   "source": [
    "attack_label = data['Label'].apply(lambda x: 1 if 'BENIGN' != x else 0)"
   ]
  },
  {
   "cell_type": "code",
   "execution_count": 21,
   "id": "0fd1e4a5",
   "metadata": {},
   "outputs": [],
   "source": [
    "matrix = pd.concat([data_filtered, attack_label], axis=1)"
   ]
  },
  {
   "cell_type": "code",
   "execution_count": 22,
   "id": "fb93ac52",
   "metadata": {},
   "outputs": [
    {
     "data": {
      "text/html": [
       "<div>\n",
       "<style scoped>\n",
       "    .dataframe tbody tr th:only-of-type {\n",
       "        vertical-align: middle;\n",
       "    }\n",
       "\n",
       "    .dataframe tbody tr th {\n",
       "        vertical-align: top;\n",
       "    }\n",
       "\n",
       "    .dataframe thead th {\n",
       "        text-align: right;\n",
       "    }\n",
       "</style>\n",
       "<table border=\"1\" class=\"dataframe\">\n",
       "  <thead>\n",
       "    <tr style=\"text-align: right;\">\n",
       "      <th></th>\n",
       "      <th>Dst Port</th>\n",
       "      <th>Protocol</th>\n",
       "      <th>TotLen Bwd Pkts</th>\n",
       "      <th>Fwd Pkt Len Max</th>\n",
       "      <th>Bwd Pkt Len Max</th>\n",
       "      <th>Flow Duration</th>\n",
       "      <th>Flow Pkts/s</th>\n",
       "      <th>Label</th>\n",
       "    </tr>\n",
       "  </thead>\n",
       "  <tbody>\n",
       "    <tr>\n",
       "      <th>0</th>\n",
       "      <td>443</td>\n",
       "      <td>6</td>\n",
       "      <td>3773.0</td>\n",
       "      <td>202</td>\n",
       "      <td>1460</td>\n",
       "      <td>141385</td>\n",
       "      <td>113.166178</td>\n",
       "      <td>1</td>\n",
       "    </tr>\n",
       "    <tr>\n",
       "      <th>1</th>\n",
       "      <td>49684</td>\n",
       "      <td>6</td>\n",
       "      <td>0.0</td>\n",
       "      <td>38</td>\n",
       "      <td>0</td>\n",
       "      <td>281</td>\n",
       "      <td>10676.156580</td>\n",
       "      <td>1</td>\n",
       "    </tr>\n",
       "    <tr>\n",
       "      <th>2</th>\n",
       "      <td>443</td>\n",
       "      <td>6</td>\n",
       "      <td>10527.0</td>\n",
       "      <td>385</td>\n",
       "      <td>1460</td>\n",
       "      <td>279824</td>\n",
       "      <td>92.915547</td>\n",
       "      <td>1</td>\n",
       "    </tr>\n",
       "    <tr>\n",
       "      <th>3</th>\n",
       "      <td>443</td>\n",
       "      <td>6</td>\n",
       "      <td>0.0</td>\n",
       "      <td>0</td>\n",
       "      <td>0</td>\n",
       "      <td>132</td>\n",
       "      <td>15151.515150</td>\n",
       "      <td>1</td>\n",
       "    </tr>\n",
       "    <tr>\n",
       "      <th>4</th>\n",
       "      <td>443</td>\n",
       "      <td>6</td>\n",
       "      <td>6141.0</td>\n",
       "      <td>517</td>\n",
       "      <td>1460</td>\n",
       "      <td>274016</td>\n",
       "      <td>80.287282</td>\n",
       "      <td>1</td>\n",
       "    </tr>\n",
       "  </tbody>\n",
       "</table>\n",
       "</div>"
      ],
      "text/plain": [
       "   Dst Port  Protocol  TotLen Bwd Pkts  Fwd Pkt Len Max  Bwd Pkt Len Max  \\\n",
       "0       443         6           3773.0              202             1460   \n",
       "1     49684         6              0.0               38                0   \n",
       "2       443         6          10527.0              385             1460   \n",
       "3       443         6              0.0                0                0   \n",
       "4       443         6           6141.0              517             1460   \n",
       "\n",
       "   Flow Duration   Flow Pkts/s  Label  \n",
       "0         141385    113.166178      1  \n",
       "1            281  10676.156580      1  \n",
       "2         279824     92.915547      1  \n",
       "3            132  15151.515150      1  \n",
       "4         274016     80.287282      1  "
      ]
     },
     "execution_count": 22,
     "metadata": {},
     "output_type": "execute_result"
    }
   ],
   "source": [
    "matrix.head()"
   ]
  },
  {
   "cell_type": "code",
   "execution_count": 24,
   "id": "c7353636",
   "metadata": {},
   "outputs": [],
   "source": [
    "colors = ['grey', 'red']\n",
    "labels = ['Не атака', 'Атака']\n",
    "scatter_x = matrix['Dst Port']\n",
    "scatter_y = matrix['Bwd Pkt Len Max']\n",
    "group = list(matrix['Label'].apply(lambda x: 1 if 'BENIGN' != x else 0))"
   ]
  },
  {
   "cell_type": "code",
   "execution_count": 25,
   "id": "f26859ff",
   "metadata": {},
   "outputs": [
    {
     "data": {
      "image/png": "[encoded data removed]",
      "text/plain": [
       "<Figure size 576x360 with 1 Axes>"
      ]
     },
     "metadata": {
      "needs_background": "light"
     },
     "output_type": "display_data"
    }
   ],
   "source": [
    "fig, ax = plt.subplots(figsize=(8,5))\n",
    "for g in np.unique(group):\n",
    "    ix = np.where(group == g)\n",
    "    ax.scatter(scatter_x.iloc[ix], scatter_y.iloc[ix], c = colors[g], label = labels[g], alpha=0.5)\n",
    "\n",
    "ax.set_xlabel('Destination Port')\n",
    "ax.set_ylabel('Bwd Packet Length Max')\n",
    "ax.set_title('Наличие атаки в датасете')\n",
    "ax.legend()\n",
    "plt.show()"
   ]
  },
  {
   "cell_type": "markdown",
   "id": "6d9392fc",
   "metadata": {},
   "source": [
    "# Количество атак на разные типы протоколов: можно проанализировать, насколько часто возникают атаки на определенные типы протоколов, такие как TCP, UDP, ICMP и т. д. Это поможет в дальнейшем более точно настраивать защиту от атак, связанных с определенными протоколами."
   ]
  },
  {
   "cell_type": "code",
   "execution_count": 29,
   "id": "7f87a2c5",
   "metadata": {},
   "outputs": [],
   "source": [
    "protocol_attacks = data.groupby(['Protocol']).agg({'Label': lambda x: sum(label != 'Benign' for label in x)})"
   ]
  },
  {
   "cell_type": "code",
   "execution_count": 30,
   "id": "32beb8a9",
   "metadata": {},
   "outputs": [],
   "source": [
    "protocol_attacks = protocol_attacks.nlargest(10, 'Label')"
   ]
  },
  {
   "cell_type": "code",
   "execution_count": 31,
   "id": "fd0ee4dc",
   "metadata": {},
   "outputs": [
    {
     "data": {
      "image/png": "[encoded data removed]",
      "text/plain": [
       "<Figure size 864x432 with 1 Axes>"
      ]
     },
     "metadata": {
      "needs_background": "light"
     },
     "output_type": "display_data"
    }
   ],
   "source": [
    "plt.figure(figsize=(12,6))\n",
    "plt.bar(protocol_attacks.index, protocol_attacks['Label'])\n",
    "plt.title('Количество атак на разные типы протоколов')\n",
    "plt.xlabel('Тип протокола')\n",
    "plt.ylabel('Количество атак')\n",
    "plt.show()"
   ]
  },
  {
   "cell_type": "markdown",
   "id": "5ed46e46",
   "metadata": {},
   "source": [
    "# Распределение атак по времени: можно проанализировать, в какое время суток наиболее вероятно, что произойдет атака."
   ]
  },
  {
   "cell_type": "code",
   "execution_count": 33,
   "id": "d71b04ed",
   "metadata": {},
   "outputs": [],
   "source": [
    "import datetime"
   ]
  },
  {
   "cell_type": "code",
   "execution_count": 37,
   "id": "e4f5c467",
   "metadata": {},
   "outputs": [],
   "source": [
    "data['Timestamp'] = pd.to_datetime(data['Timestamp'], format='%d/%m/%Y %H:%M:%S')"
   ]
  },
  {
   "cell_type": "code",
   "execution_count": 38,
   "id": "ab8d8cc2",
   "metadata": {},
   "outputs": [],
   "source": [
    "data['Hour'] = data['Timestamp'].dt.round('H').dt.hour"
   ]
  },
  {
   "cell_type": "code",
   "execution_count": 39,
   "id": "682cd79a",
   "metadata": {},
   "outputs": [],
   "source": [
    "time_attacks = data.groupby(['Hour']).agg({'Label': lambda x: sum(label != 'Benign' for label in x)})"
   ]
  },
  {
   "cell_type": "code",
   "execution_count": 40,
   "id": "3ee388a5",
   "metadata": {},
   "outputs": [
    {
     "data": {
      "image/png": "[encoded data removed]",
      "text/plain": [
       "<Figure size 864x432 with 1 Axes>"
      ]
     },
     "metadata": {
      "needs_background": "light"
     },
     "output_type": "display_data"
    }
   ],
   "source": [
    "plt.figure(figsize=(12,6))\n",
    "plt.plot(time_attacks.index, time_attacks['Label'])\n",
    "plt.title('Распределение атак по времени')\n",
    "plt.xlabel('Час')\n",
    "plt.ylabel('Количество атак')\n",
    "plt.show()"
   ]
  },
  {
   "cell_type": "markdown",
   "id": "653c0078",
   "metadata": {},
   "source": [
    "# Соотношение успешных и неудачных атак: можно проанализировать, какое количество атак завершилось успешно и как много из них были предотвращены"
   ]
  },
  {
   "cell_type": "code",
   "execution_count": 42,
   "id": "de951a59",
   "metadata": {},
   "outputs": [],
   "source": [
    "successful_attacks = data[data['Label'] != 'Benign'].count()['Label']\n",
    "failed_attacks = data[data['Label'] == 'Benign'].count()['Label']"
   ]
  },
  {
   "cell_type": "code",
   "execution_count": 43,
   "id": "e10b3949",
   "metadata": {},
   "outputs": [
    {
     "data": {
      "text/plain": [
       "([<matplotlib.patches.Wedge at 0x12350c19b20>,\n",
       "  <matplotlib.patches.Wedge at 0x12350c26280>],\n",
       " [Text(-0.8785553927160153, 0.6619217642060189, 'Успешные атаки'),\n",
       "  Text(0.8785554546895995, -0.6619216819497238, 'Неудачные атаки')],\n",
       " [Text(-0.47921203239055377, 0.3610482350214648, '29.4%'),\n",
       "  Text(0.47921206619432694, -0.36104819015439477, '70.6%')])"
      ]
     },
     "execution_count": 43,
     "metadata": {},
     "output_type": "execute_result"
    },
    {
     "data": {
      "image/png": "[encoded data removed]",
      "text/plain": [
       "<Figure size 432x288 with 1 Axes>"
      ]
     },
     "metadata": {},
     "output_type": "display_data"
    }
   ],
   "source": [
    "labels = 'Успешные атаки', 'Неудачные атаки'\n",
    "colors = ['yellowgreen', 'lightcoral']\n",
    "sizes = [successful_attacks, failed_attacks]\n",
    "plt.pie(sizes, labels=labels, colors=colors, autopct='%1.1f%%', startangle=90)"
   ]
  },
  {
   "cell_type": "markdown",
   "id": "fb997dca",
   "metadata": {},
   "source": [
    "# Сегментация сети: можно проанализировать, какие сегменты сети чаще всего были целью атак и насколько эффективно работает сегментация системы для защиты от атак"
   ]
  },
  {
   "cell_type": "code",
   "execution_count": 48,
   "id": "3a4fb5ac",
   "metadata": {},
   "outputs": [],
   "source": [
    "attacked_segments = data[data['Label'] != 'Benign'].groupby('Protocol')['Label'].count()"
   ]
  },
  {
   "cell_type": "code",
   "execution_count": 49,
   "id": "d6936fd0",
   "metadata": {},
   "outputs": [
    {
     "name": "stdout",
     "output_type": "stream",
     "text": [
      "Protocol\n",
      "6     2691681\n",
      "17      54020\n",
      "0        2534\n",
      "Name: Label, dtype: int64\n"
     ]
    }
   ],
   "source": [
    "top_attacked_segments = attacked_segments.sort_values(ascending=False).head(10)\n",
    "print(top_attacked_segments)"
   ]
  },
  {
   "cell_type": "code",
   "execution_count": 50,
   "id": "f3163253",
   "metadata": {},
   "outputs": [
    {
     "data": {
      "image/png": "[encoded data removed]",
      "text/plain": [
       "<Figure size 432x288 with 1 Axes>"
      ]
     },
     "metadata": {
      "needs_background": "light"
     },
     "output_type": "display_data"
    }
   ],
   "source": [
    "plt.bar(top_attacked_segments.index, top_attacked_segments, color='red')\n",
    "plt.title('Топ-10 атакованных протоколов')\n",
    "plt.xlabel('Тип протокола')\n",
    "plt.ylabel('Количество атак')\n",
    "plt.show()"
   ]
  },
  {
   "cell_type": "code",
   "execution_count": 70,
   "id": "898863be",
   "metadata": {},
   "outputs": [
    {
     "name": "stderr",
     "output_type": "stream",
     "text": [
      "C:\\Users\\Danila\\AppData\\Local\\Temp\\ipykernel_9756\\2511035948.py:1: SettingWithCopyWarning: \n",
      "A value is trying to be set on a copy of a slice from a DataFrame.\n",
      "Try using .loc[row_indexer,col_indexer] = value instead\n",
      "\n",
      "See the caveats in the documentation: https://pandas.pydata.org/pandas-docs/stable/user_guide/indexing.html#returning-a-view-versus-a-copy\n",
      "  attacks['Timestamp'] = pd.to_datetime(attacks['Timestamp'], format=\"%d/%m/%Y %H:%M:%S\")\n"
     ]
    }
   ],
   "source": [
    "attacks['Timestamp'] = pd.to_datetime(attacks['Timestamp'], format=\"%d/%m/%Y %H:%M:%S\")"
   ]
  },
  {
   "cell_type": "code",
   "execution_count": 73,
   "id": "1a2ad819",
   "metadata": {},
   "outputs": [
    {
     "name": "stderr",
     "output_type": "stream",
     "text": [
      "C:\\Users\\Danila\\AppData\\Local\\Temp\\ipykernel_9756\\2368683499.py:2: SettingWithCopyWarning: \n",
      "A value is trying to be set on a copy of a slice from a DataFrame.\n",
      "Try using .loc[row_indexer,col_indexer] = value instead\n",
      "\n",
      "See the caveats in the documentation: https://pandas.pydata.org/pandas-docs/stable/user_guide/indexing.html#returning-a-view-versus-a-copy\n",
      "  attacks['Duration'] = time_diff.dt.total_seconds()\n"
     ]
    }
   ],
   "source": [
    "time_diff = attacks['Timestamp'].diff()\n",
    "attacks['Duration'] = time_diff.dt.total_seconds()"
   ]
  },
  {
   "cell_type": "code",
   "execution_count": 74,
   "id": "e2018ebb",
   "metadata": {},
   "outputs": [],
   "source": [
    "attacked_methods = attacks.groupby('Label')['Timestamp'].count()"
   ]
  },
  {
   "cell_type": "code",
   "execution_count": 75,
   "id": "350cc4dc",
   "metadata": {},
   "outputs": [],
   "source": [
    "attack_duration = attacks.groupby('Label')['Duration'].sum()"
   ]
  },
  {
   "cell_type": "code",
   "execution_count": 76,
   "id": "3c45d4c0",
   "metadata": {},
   "outputs": [],
   "source": [
    "top_attacked_methods = attack_duration.sort_values(ascending=False).head(10)"
   ]
  },
  {
   "cell_type": "code",
   "execution_count": 77,
   "id": "1a2185bb",
   "metadata": {},
   "outputs": [
    {
     "data": {
      "image/png": "[encoded data removed]",
      "text/plain": [
       "<Figure size 432x288 with 1 Axes>"
      ]
     },
     "metadata": {
      "needs_background": "light"
     },
     "output_type": "display_data"
    }
   ],
   "source": [
    "top_attacked_methods.plot(kind='bar', color='red')\n",
    "plt.title('Топ-10 методов атак')\n",
    "plt.ylabel('Длительность атак (сек.)')\n",
    "plt.show()"
   ]
  },
  {
   "cell_type": "markdown",
   "id": "443b0be4",
   "metadata": {},
   "source": [
    "# Распределение размеров пакетов: можно проанализировать, какие размеры пакетов наиболее часто используются для атак и как они распределены по времени."
   ]
  },
  {
   "cell_type": "code",
   "execution_count": 79,
   "id": "8cf3ceab",
   "metadata": {},
   "outputs": [],
   "source": [
    "packet_sizes = attacks.groupby('Pkt Size Avg')['Timestamp'].count()"
   ]
  },
  {
   "cell_type": "code",
   "execution_count": 80,
   "id": "263ca4a6",
   "metadata": {},
   "outputs": [],
   "source": [
    "top_packet_sizes = packet_sizes.sort_values(ascending=False).head(10)"
   ]
  },
  {
   "cell_type": "code",
   "execution_count": 81,
   "id": "3720ea9c",
   "metadata": {},
   "outputs": [
    {
     "data": {
      "image/png": "[encoded data removed]",
      "text/plain": [
       "<Figure size 432x288 with 1 Axes>"
      ]
     },
     "metadata": {
      "needs_background": "light"
     },
     "output_type": "display_data"
    }
   ],
   "source": [
    "plt.hist(attacks['Pkt Size Avg'], bins=100)\n",
    "plt.xlabel('Размер пакета')\n",
    "plt.ylabel('Количество пакетов')\n",
    "plt.title('Распределение размеров пакетов')\n",
    "plt.show()"
   ]
  },
  {
   "cell_type": "code",
   "execution_count": null,
   "id": "43060e82",
   "metadata": {},
   "outputs": [],
   "source": []
  },
  {
   "cell_type": "code",
   "execution_count": null,
   "id": "3e6e5573",
   "metadata": {},
   "outputs": [],
   "source": []
  },
  {
   "cell_type": "code",
   "execution_count": null,
   "id": "f3301043",
   "metadata": {},
   "outputs": [],
   "source": []
  }
 ],
 "metadata": {
  "kernelspec": {
   "display_name": "Python 3 (ipykernel)",
   "language": "python",
   "name": "python3"
  },
  "language_info": {
   "codemirror_mode": {
    "name": "ipython",
    "version": 3
   },
   "file_extension": ".py",
   "mimetype": "text/x-python",
   "name": "python",
   "nbconvert_exporter": "python",
   "pygments_lexer": "ipython3",
   "version": "3.9.13"
  }
 },
 "nbformat": 4,
 "nbformat_minor": 5
}
